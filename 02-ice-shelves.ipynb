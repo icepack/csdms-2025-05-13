{
 "cells": [
  {
   "cell_type": "markdown",
   "id": "d2a637b8-fd7e-4925-8ba4-17d832d6f41c",
   "metadata": {},
   "source": [
    "# Ice shelves\n",
    "\n",
    "A first demo with icepack."
   ]
  },
  {
   "cell_type": "code",
   "execution_count": null,
   "id": "d79d4ff0-4a7f-446a-b37f-9c9e8ca2664a",
   "metadata": {},
   "outputs": [],
   "source": [
    "import numpy as np\n",
    "from numpy import pi as π\n",
    "import matplotlib.pyplot as plt\n",
    "from tqdm.notebook import tqdm, trange\n",
    "from mpl_toolkits import mplot3d\n",
    "from matplotlib.animation import FuncAnimation\n",
    "from IPython.display import HTML\n",
    "import firedrake\n",
    "from firedrake import Constant, exp, inner, grad, dx\n",
    "import irksome\n",
    "from irksome import Dt"
   ]
  },
  {
   "cell_type": "markdown",
   "id": "af3fb999-fb83-49a6-b94c-5181f7fb0a3f",
   "metadata": {},
   "source": [
    "## Setup\n",
    "\n",
    "Here we want to use our own custom mesh, which is stored in a file `ice-shelf.msh`.\n",
    "Ask me about mesh generation some time..."
   ]
  },
  {
   "cell_type": "code",
   "execution_count": null,
   "id": "94ed75be-1177-4114-9163-d2f33a34b448",
   "metadata": {},
   "outputs": [],
   "source": [
    "mesh = ..."
   ]
  },
  {
   "cell_type": "markdown",
   "id": "a21bf3fb-aae0-4a67-b9f0-43c2e0a886b5",
   "metadata": {},
   "source": [
    "This mesh has two different boundary segments, unlike the one we used before."
   ]
  },
  {
   "cell_type": "code",
   "execution_count": null,
   "id": "b0d85006-7d5e-4123-b27a-b96d89458757",
   "metadata": {},
   "outputs": [],
   "source": [
    "fig, ax = plt.subplots()\n",
    "ax.set_aspect(\"equal\")\n",
    "firedrake.triplot(\n",
    "    mesh,\n",
    "    axes=ax,\n",
    "    boundary_kw={\"colors\": [\"tab:blue\", \"tab:orange\"]},\n",
    ")\n",
    "ax.legend(loc=\"upper right\");"
   ]
  },
  {
   "cell_type": "markdown",
   "id": "7edacbf1-ad8a-4b04-8144-15638499bd02",
   "metadata": {},
   "source": [
    "Here we're going to create a finite element and a function space.\n",
    "But we'll instead be using a discontinuous element because the mass conservation equation is hyperbolic."
   ]
  },
  {
   "cell_type": "code",
   "execution_count": null,
   "id": "b98ac29c-7025-45c5-92bf-4ffa0ea91208",
   "metadata": {},
   "outputs": [],
   "source": [
    "thickness_element = ...\n",
    "Q = ..."
   ]
  },
  {
   "cell_type": "markdown",
   "id": "10fe8660-8fb1-4ada-aff5-f016a46e3779",
   "metadata": {},
   "source": [
    "Here we also need a function space for the velocity field."
   ]
  },
  {
   "cell_type": "code",
   "execution_count": null,
   "id": "b7799e53-3204-4405-b227-8e9448498a3c",
   "metadata": {},
   "outputs": [],
   "source": [
    "velocity_element = ...\n",
    "V = ..."
   ]
  },
  {
   "cell_type": "markdown",
   "id": "b0337b65-0a58-4bc5-b5e5-ccd7164f1de0",
   "metadata": {},
   "source": [
    "Now we're going to create some algebraic expressions for the initial thickness and velocity.\n",
    "I came up with these using a *lot* of trial and error.\n",
    "You can ignore all the messy algebra."
   ]
  },
  {
   "cell_type": "code",
   "execution_count": null,
   "id": "f0ac1804-5d77-47d7-a2df-d6a470a16a25",
   "metadata": {},
   "outputs": [],
   "source": [
    "x = firedrake.SpatialCoordinate(mesh)\n",
    "\n",
    "inlet_angles = π * np.array([-3/4, -1/2, -1/3, -1/6])\n",
    "inlet_widths = π * np.array([1/8, 1/12, 1/24, 1/12])\n",
    "\n",
    "θs = [Constant(θ) for θ in inlet_angles]\n",
    "δθs = [Constant(δθ) for δθ in inlet_widths]\n",
    "\n",
    "R = Constant(200e3)\n",
    "\n",
    "h_in = Constant(350)\n",
    "H = Constant(100)\n",
    "δh = Constant(400)\n",
    "\n",
    "u_in = Constant(300)\n",
    "δu = Constant(250.0)\n",
    "\n",
    "h_exprs = []\n",
    "u_exprs = []\n",
    "for θ, δθ in zip(θs, δθs):\n",
    "    v = Constant((firedrake.cos(θ), firedrake.sin(θ)))\n",
    "    x_0 = R * v\n",
    "    L = -inner(x - x_0, v)\n",
    "    W = x - x_0 + L * v\n",
    "    R_n = 2 * δθ / π * R\n",
    "\n",
    "    q = firedrake.max_value(0, 1 - (W / R_n)**2)\n",
    "    h_expr = H + q * ((h_in - H) - δh * L / R)\n",
    "    h_exprs.append(h_expr)\n",
    "\n",
    "    u_expr = -exp(-4 * (W / R)**2) * (u_in + δu * L / R) * v\n",
    "    u_exprs.append(u_expr)"
   ]
  },
  {
   "cell_type": "code",
   "execution_count": null,
   "id": "d6e88a11-d6eb-43c2-8d2f-7f55837878f9",
   "metadata": {},
   "outputs": [],
   "source": [
    "h_expr = Constant(H)\n",
    "for expr in h_exprs:\n",
    "    h_expr = firedrake.max_value(h_expr, expr)"
   ]
  },
  {
   "cell_type": "markdown",
   "id": "988b974f-a208-4ab7-a949-1a94d3d2f4f8",
   "metadata": {},
   "source": [
    "Since the thickness field lives in a space of discontinuous functions, we can't interpolate it like we normally would if we were using continuous basis functions.\n",
    "Instead, we compue its projection."
   ]
  },
  {
   "cell_type": "code",
   "execution_count": null,
   "id": "29546d9e-0f9e-462c-af3c-8848f1ca7709",
   "metadata": {},
   "outputs": [],
   "source": [
    "h_0 = ..."
   ]
  },
  {
   "cell_type": "code",
   "execution_count": null,
   "id": "a79b21b7-be65-42f2-aa6d-b3ad8d0954a6",
   "metadata": {},
   "outputs": [],
   "source": [
    "fig, ax = plt.subplots()\n",
    "ax.set_aspect(\"equal\")\n",
    "ax.axis(\"off\")\n",
    "colors = firedrake.tripcolor(h_0, shading=\"gouraud\", axes=ax)\n",
    "fig.colorbar(colors, orientation=\"horizontal\");"
   ]
  },
  {
   "cell_type": "markdown",
   "id": "438d3230-ad53-4d82-8fef-f0aa6bbc48b3",
   "metadata": {},
   "source": [
    "We can still interpolate the velocity."
   ]
  },
  {
   "cell_type": "code",
   "execution_count": null,
   "id": "9b061e4d-6cfa-4879-b4fd-ba11b92c8098",
   "metadata": {},
   "outputs": [],
   "source": [
    "u_expr = sum(u_exprs)\n",
    "u_0 = firedrake.Function(V).interpolate(u_expr)"
   ]
  },
  {
   "cell_type": "markdown",
   "id": "ce01e451-ee82-48d5-9d9d-9ceb1ee479b4",
   "metadata": {},
   "source": [
    "## Solve for the velocity\n",
    "\n",
    "We first need to pick the parameters that we'll use in the momentum balance equation, like the ice rheology, fluidity, etc.\n",
    "\n",
    "This is the fluidity of ice at about -18${}^\\circ$C.\n",
    "It's in units of MPa${}^{-3}$ years${}^{-1}$.\n",
    "That's kind of hard to picture.\n",
    "It's easier to ask: what strain rate would result at a stress of 100 kPa."
   ]
  },
  {
   "cell_type": "code",
   "execution_count": null,
   "id": "a86c3aff-6335-4e03-a0c1-39b60c97dd35",
   "metadata": {},
   "outputs": [],
   "source": [
    "A = Constant(6.5)   # Fluidity in MPa⁻³ yr⁻¹\n",
    "\n",
    "n = Constant(3)\n",
    "τ_c = Constant(0.1)\n",
    "ε_c = ...\n",
    "print(f\"Strain rate at 100 kPa: {1000 * float(ε_c):0.4f} (m / yr) / km\")"
   ]
  },
  {
   "cell_type": "markdown",
   "id": "7e077633-3b86-4bce-97d5-6089aef1affb",
   "metadata": {},
   "source": [
    "We're almost ready to try and solve the momentum balance equation.\n",
    "We have to once again create a function space for the membrane stress.\n",
    "But this is a symmetric tensor."
   ]
  },
  {
   "cell_type": "code",
   "execution_count": null,
   "id": "9c7206c1-bfe0-41fd-9a5f-e37ebc8422af",
   "metadata": {},
   "outputs": [],
   "source": [
    "stress_element = ...\n",
    "Σ = ..."
   ]
  },
  {
   "cell_type": "markdown",
   "id": "29f908db-8c28-4c7a-a6a8-b0cfe619997c",
   "metadata": {},
   "source": [
    "Here we'll have to do something new.\n",
    "We want to simultaneously solve for the velocity and stress.\n",
    "So we need to create a new function space which is the product of the velocity and stress spaces."
   ]
  },
  {
   "cell_type": "code",
   "execution_count": null,
   "id": "3a6ced10-f392-4c22-9e36-165174634298",
   "metadata": {},
   "outputs": [],
   "source": [
    "Z = ..."
   ]
  },
  {
   "cell_type": "markdown",
   "id": "4e6d9d03-d53e-456f-be23-12cf57e5962b",
   "metadata": {},
   "source": [
    "We'll initialize our solution variable with the velocity we made up above.\n",
    "We can access the components of it with the `.sub` method."
   ]
  },
  {
   "cell_type": "code",
   "execution_count": null,
   "id": "fee2a239-3426-4497-a579-27b0a7b81a42",
   "metadata": {},
   "outputs": [],
   "source": [
    "z = firedrake.Function(Z)\n",
    "z.sub(0).assign(u_0);"
   ]
  },
  {
   "cell_type": "markdown",
   "id": "f43823cb-f231-4551-94af-413fc8a6963b",
   "metadata": {},
   "source": [
    "In order to create the symbolic form of the problem, we need to get some variables describing the velocity and stress and the corresponding test functions."
   ]
  },
  {
   "cell_type": "code",
   "execution_count": null,
   "id": "d5a1bb54-9d02-4565-8961-c1f3b4c15c17",
   "metadata": {},
   "outputs": [],
   "source": [
    "u, M = ...\n",
    "v, N = ..."
   ]
  },
  {
   "cell_type": "markdown",
   "id": "55f3b602-43cc-4a5e-a8ce-83f1ceb9d249",
   "metadata": {},
   "source": [
    "Now we'll call out to icepack to make the variational form of the problem."
   ]
  },
  {
   "cell_type": "code",
   "execution_count": null,
   "id": "a887dadb-51e0-43d5-afef-d252a918d83b",
   "metadata": {},
   "outputs": [],
   "source": [
    "from icepack2.model.variational import flow_law, ice_shelf_momentum_balance\n",
    "\n",
    "F = ..."
   ]
  },
  {
   "cell_type": "markdown",
   "id": "9eeb6a2f-2b4e-42be-930c-6bb9e529c07b",
   "metadata": {},
   "source": [
    "We need special handling of boundary conditions again because we're working with a mixed function space."
   ]
  },
  {
   "cell_type": "code",
   "execution_count": null,
   "id": "f692c413-0320-4ec9-9e82-b60072cd1c46",
   "metadata": {},
   "outputs": [],
   "source": [
    "inflow_ids = [1]\n",
    "bc = firedrake.DirichletBC(Z.sub(0), u_0, inflow_ids)"
   ]
  },
  {
   "cell_type": "markdown",
   "id": "a2513e75-53bb-48af-a4d8-d88f2ffdec9e",
   "metadata": {},
   "source": [
    "Here we're adding a few extra options:\n",
    "1. specify what quadrature degree we want\n",
    "2. print out diagnostic information so we can see the solver converge\n",
    "3. use a different line search method"
   ]
  },
  {
   "cell_type": "code",
   "execution_count": null,
   "id": "456864cc-50c4-4a54-bf45-8a632369ce3d",
   "metadata": {},
   "outputs": [],
   "source": [
    "pparams = {\"form_compiler_parameters\": {\"quadrature_degree\": 6}}\n",
    "problem = firedrake.NonlinearVariationalProblem(F, z, bc, **pparams)"
   ]
  },
  {
   "cell_type": "code",
   "execution_count": null,
   "id": "b42ca20d-36a7-4e0d-bdbb-0f5844adbdfb",
   "metadata": {},
   "outputs": [],
   "source": [
    "sparams = {\n",
    "    \"solver_parameters\": {\n",
    "        \"snes_monitor\": None,\n",
    "        \"snes_linesearch_type\": \"nleqerr\",\n",
    "    },\n",
    "}\n",
    "solver = firedrake.NonlinearVariationalSolver(problem, **sparams)"
   ]
  },
  {
   "cell_type": "markdown",
   "id": "fb160f96-ad38-4e18-ada2-00241112768a",
   "metadata": {},
   "source": [
    "Solve the momentum balance equation, I think...?"
   ]
  },
  {
   "cell_type": "code",
   "execution_count": null,
   "id": "ed09c25f-4c27-4259-a02c-1e8338b66d53",
   "metadata": {},
   "outputs": [],
   "source": [
    "z.sub(0).assign(u_0)\n",
    "z.sub(1).assign(0.0)\n",
    "\n",
    "solver.solve()"
   ]
  },
  {
   "cell_type": "markdown",
   "id": "c1d6f6e5-6615-4fa9-8e54-8547c33fb2b3",
   "metadata": {},
   "source": [
    "## The simulation\n",
    "\n",
    "Now that we have an initial velocity and stress, we can start solving the coupled mass and momentum balance equations.\n",
    "We'll have to make an even bigger function space."
   ]
  },
  {
   "cell_type": "code",
   "execution_count": null,
   "id": "039867e5-48fd-4ea4-bcff-eeb5821dd060",
   "metadata": {},
   "outputs": [],
   "source": [
    "W = ..."
   ]
  },
  {
   "cell_type": "markdown",
   "id": "533e3f1d-d54d-4e39-b98e-e566c1d8093b",
   "metadata": {},
   "source": [
    "Initialize our solution in the bigger space with the velocity and stress that we just computed and the initial thickness."
   ]
  },
  {
   "cell_type": "code",
   "execution_count": null,
   "id": "6faab88a-ddea-4bc4-b636-2623cf98b345",
   "metadata": {},
   "outputs": [],
   "source": [
    "w = firedrake.Function(W)\n",
    "w.sub(0).assign(z.sub(0))\n",
    "w.sub(1).assign(z.sub(1))\n",
    "w.sub(2).assign(h_0);"
   ]
  },
  {
   "cell_type": "markdown",
   "id": "922bacda-305f-4156-93a3-eefc0bb7705a",
   "metadata": {},
   "source": [
    "Extract the components of the solution and test functions."
   ]
  },
  {
   "cell_type": "code",
   "execution_count": null,
   "id": "c68daac3-a8f5-4d31-9027-268a21815d33",
   "metadata": {},
   "outputs": [],
   "source": [
    "u, M, h = ...\n",
    "v, N, ϕ = ..."
   ]
  },
  {
   "cell_type": "markdown",
   "id": "1a501a4a-4b11-411b-8486-d1ae111104c3",
   "metadata": {},
   "source": [
    "Here we'll assume no net accumulation / ablation, i.e. that the rate of snow mass accumulation is equal to the rate of ocean melting."
   ]
  },
  {
   "cell_type": "code",
   "execution_count": null,
   "id": "c0f976f9-6482-4bb8-abac-cc349e047a28",
   "metadata": {},
   "outputs": [],
   "source": [
    "a = Constant(0.0)"
   ]
  },
  {
   "cell_type": "markdown",
   "id": "06cc163f-a7c7-4f64-a9b6-104bb036eb1e",
   "metadata": {},
   "source": [
    "Creating the dynamics looks similar to before, but now we add on the mass balance."
   ]
  },
  {
   "cell_type": "code",
   "execution_count": null,
   "id": "fe0487ac-4da9-4d15-8266-2e733d5fdf7d",
   "metadata": {},
   "outputs": [],
   "source": [
    "from icepack2.model import mass_balance\n",
    "\n",
    "F = ..."
   ]
  },
  {
   "cell_type": "code",
   "execution_count": null,
   "id": "24eea539-2aca-4899-8167-cbdb2da0ac96",
   "metadata": {},
   "outputs": [],
   "source": [
    "t = Constant(0.0)\n",
    "dt = Constant(1.0)"
   ]
  },
  {
   "cell_type": "code",
   "execution_count": null,
   "id": "2700ac08-eff9-4467-b110-ac8c7f5099b7",
   "metadata": {},
   "outputs": [],
   "source": [
    "bc = firedrake.DirichletBC(W.sub(0), u_0, inflow_ids)"
   ]
  },
  {
   "cell_type": "code",
   "execution_count": null,
   "id": "1143a5d9-8051-4655-ab4c-379d7b83f2fb",
   "metadata": {},
   "outputs": [],
   "source": [
    "method = ...\n",
    "params = {\n",
    "    \"bcs\": bc,\n",
    "    \"form_compiler_parameters\": {\"quadrature_degree\": 6},\n",
    "    \"solver_parameters\": {\"snes_linesearch_type\": \"nleqerr\"},\n",
    "}\n",
    "stepper = irksome.TimeStepper(F, method, t, dt, w, **params)"
   ]
  },
  {
   "cell_type": "code",
   "execution_count": null,
   "id": "283da5b0-72c8-4ebf-829e-539aa3238b8e",
   "metadata": {},
   "outputs": [],
   "source": [
    "final_time = 400.0\n",
    "num_steps = ...\n",
    "\n",
    "for step in trange(num_steps):\n",
    "    ..."
   ]
  },
  {
   "cell_type": "markdown",
   "id": "028b7e5d-cc70-4d51-b6a2-115ae7051419",
   "metadata": {},
   "source": [
    "## Analysis & visualization\n",
    "\n",
    "First let's make a plot of the final thickness."
   ]
  },
  {
   "cell_type": "code",
   "execution_count": null,
   "id": "ce93b324-1d1b-4a5e-95b8-03d5735e450c",
   "metadata": {},
   "outputs": [],
   "source": [
    "u, M, h = w.subfunctions\n",
    "\n",
    "fig, ax = plt.subplots()\n",
    "ax.set_aspect(\"equal\")\n",
    "ax.axis(\"off\")\n",
    "colors = firedrake.tripcolor(h, axes=ax)\n",
    "fig.colorbar(colors, orientation=\"horizontal\");"
   ]
  },
  {
   "cell_type": "markdown",
   "id": "03b03a7e-460a-431f-955a-22b4712d8bbc",
   "metadata": {},
   "source": [
    "Many kinds of analyses that we want to do are expressible using the form language DSL.\n",
    "For example, the code below calculates the total ice volume."
   ]
  },
  {
   "cell_type": "code",
   "execution_count": null,
   "id": "47a7ae16-4a6b-4ce4-93a8-b9806497d5c9",
   "metadata": {},
   "outputs": [],
   "source": [
    "volume = ...\n",
    "print(f\"Final ice volume: {volume / 1e9:0.0f} km³\")"
   ]
  },
  {
   "cell_type": "markdown",
   "id": "8d3d1fe2-16e4-4a9f-8891-d5d9e5793db1",
   "metadata": {},
   "source": [
    "We can then plot the volume through time in order to assess whether the system has approached steady state."
   ]
  },
  {
   "cell_type": "code",
   "execution_count": null,
   "id": "78d47cc0-c470-45ca-b3c4-a363203b4af9",
   "metadata": {},
   "outputs": [],
   "source": [
    "times = np.linspace(0.0, final_time, num_steps + 1)\n",
    "volumes = ...\n",
    "\n",
    "fig, ax = plt.subplots()\n",
    "ax.set_xlabel(\"Time (years)\")\n",
    "ax.set_ylabel(\"Volume (km³)\")\n",
    "ax.plot(times, volumes);"
   ]
  },
  {
   "cell_type": "markdown",
   "id": "88349337-737e-463d-bfd9-4bcb076147ef",
   "metadata": {},
   "source": [
    "Here's a more sophisticated example: plotting the fluxes of ice through each boundary segment."
   ]
  },
  {
   "cell_type": "code",
   "execution_count": null,
   "id": "2f4b4965-c77b-4f98-8f96-718c9c2474c1",
   "metadata": {},
   "outputs": [],
   "source": [
    "from firedrake import ds\n",
    "\n",
    "u, M, h = w.subfunctions\n",
    "\n",
    "ν = ...\n",
    "influx = ...\n",
    "outflux = ...\n",
    "\n",
    "print(f\"Influx:  {influx / 1e9:0.3f} km³/yr\")\n",
    "print(f\"Outflux: {outflux / 1e9:0.3f} km³/yr\")"
   ]
  },
  {
   "cell_type": "markdown",
   "id": "38e46cc7-5508-4096-be21-7bb9b80a400e",
   "metadata": {},
   "source": [
    "Finally, the code below shows how to make a movie."
   ]
  },
  {
   "cell_type": "code",
   "execution_count": null,
   "id": "e38a0a69-e2b4-4e63-9041-23e17fef1636",
   "metadata": {},
   "outputs": [],
   "source": [
    "%%capture\n",
    "\n",
    "fig, ax = plt.subplots()\n",
    "ax.set_aspect(\"equal\")\n",
    "ax.get_xaxis().set_visible(False)\n",
    "ax.get_yaxis().set_visible(False)\n",
    "colors = firedrake.tripcolor(\n",
    "    hs[0], axes=ax, num_sample_points=1, shading=\"gouraud\"\n",
    ")\n",
    "fig.colorbar(colors, orientation=\"horizontal\")"
   ]
  },
  {
   "cell_type": "code",
   "execution_count": null,
   "id": "60ffa9db-d4a6-4515-8f59-5b4613f7d34a",
   "metadata": {},
   "outputs": [],
   "source": [
    "fn_plotter = firedrake.FunctionPlotter(mesh, num_sample_points=1)\n",
    "def animate(h):\n",
    "    colors.set_array(fn_plotter(h))\n",
    "\n",
    "animation = FuncAnimation(fig, animate, tqdm(hs), interval=1e3/30)"
   ]
  },
  {
   "cell_type": "code",
   "execution_count": null,
   "id": "b0191ecd-ef12-487b-b197-2b780144b2c7",
   "metadata": {},
   "outputs": [],
   "source": [
    "HTML(animation.to_html5_video())"
   ]
  }
 ],
 "metadata": {
  "kernelspec": {
   "display_name": "firedrake",
   "language": "python",
   "name": "firedrake"
  },
  "language_info": {
   "codemirror_mode": {
    "name": "ipython",
    "version": 3
   },
   "file_extension": ".py",
   "mimetype": "text/x-python",
   "name": "python",
   "nbconvert_exporter": "python",
   "pygments_lexer": "ipython3",
   "version": "3.11.9"
  }
 },
 "nbformat": 4,
 "nbformat_minor": 5
}
