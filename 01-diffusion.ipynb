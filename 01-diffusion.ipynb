{
 "cells": [
  {
   "cell_type": "markdown",
   "id": "75ec5eea-d93c-4674-8793-e4f54ebfe716",
   "metadata": {},
   "source": [
    "# The diffusion equation\n",
    "\n",
    "Or, hillslope evolution as we knew it in the 1960s."
   ]
  },
  {
   "cell_type": "code",
   "execution_count": null,
   "id": "74422ce6-cabe-458c-98ea-df7d8adf5bfb",
   "metadata": {},
   "outputs": [],
   "source": [
    "import numpy as np\n",
    "import matplotlib.pyplot as plt\n",
    "from tqdm.notebook import tqdm, trange\n",
    "from mpl_toolkits import mplot3d\n",
    "from matplotlib.animation import FuncAnimation\n",
    "from IPython.display import HTML\n",
    "import firedrake\n",
    "from firedrake import Constant, exp, inner, grad, dx\n",
    "import irksome\n",
    "from irksome import Dt"
   ]
  },
  {
   "cell_type": "markdown",
   "id": "1f7163c2-a336-488b-aff2-072fceac2f25",
   "metadata": {},
   "source": [
    "## Solving steady problems\n",
    "\n",
    "Firedrake includes functions to create a few standard meshes.\n",
    "Later we can see how to load in a geometry that you create with a mesh generator."
   ]
  },
  {
   "cell_type": "code",
   "execution_count": null,
   "id": "865dff10-58d4-4429-b7c8-02a6b064b53e",
   "metadata": {},
   "outputs": [],
   "source": [
    "mesh = ...\n",
    "radius = 200.0\n",
    "mesh.coordinates.dat.data[:] *= radius"
   ]
  },
  {
   "cell_type": "markdown",
   "id": "4395cb4c-f6f0-4f27-a41d-96cb8467d943",
   "metadata": {},
   "source": [
    "Make a plot of the mesh.\n",
    "We can visualize the numeric IDs of the different boundary segments by adding a legend.\n",
    "Getting the wrong boundary conditions is one of the most common errors!"
   ]
  },
  {
   "cell_type": "code",
   "execution_count": null,
   "id": "416aad08-bb67-426a-8d9f-6727b6de6d99",
   "metadata": {},
   "outputs": [],
   "source": [
    "fig, ax = plt.subplots()\n",
    "ax.set_aspect(\"equal\")\n",
    "firedrake.triplot(mesh, axes=ax)\n",
    "ax.legend(loc=\"upper right\");"
   ]
  },
  {
   "cell_type": "markdown",
   "id": "c2b02d2d-e417-4e58-8e70-0263dcd6132c",
   "metadata": {},
   "source": [
    "Create a finite element.\n",
    "This object describes how we're going to discretize the problem.\n",
    "Here we'll just use continuous Galerkin elements of degree 1, so the solution is approximated as being piecewise linear inside each triangle."
   ]
  },
  {
   "cell_type": "code",
   "execution_count": null,
   "id": "b137ace8-b486-4db8-b8c2-ef67db880fea",
   "metadata": {},
   "outputs": [],
   "source": [
    "element = ..."
   ]
  },
  {
   "cell_type": "markdown",
   "id": "1d13deda-4c2f-4b49-9305-09b63ff58259",
   "metadata": {},
   "source": [
    "A finite element just describes how to represent a function in general.\n",
    "It does not have any connection to the mesh as such.\n",
    "A function space is created from a mesh and an element."
   ]
  },
  {
   "cell_type": "code",
   "execution_count": null,
   "id": "cf5a077e-1244-4f22-91aa-b4f857b5ddcc",
   "metadata": {},
   "outputs": [],
   "source": [
    "V = ..."
   ]
  },
  {
   "cell_type": "markdown",
   "id": "6156a890-1d00-4039-986f-1b1f9df53bf2",
   "metadata": {},
   "source": [
    "First, we'll get an object out of the mesh that describes points within the domain.\n",
    "We can then manipulate this object in order to create complex algebraic expressions.\n",
    "Here we'll make a function that represents an uplift rate consisting of two Gaussian peaks."
   ]
  },
  {
   "cell_type": "code",
   "execution_count": null,
   "id": "e6fdb9e2-1901-4f79-8c66-22b2f9b092f9",
   "metadata": {},
   "outputs": [],
   "source": [
    "x = ...\n",
    "R = Constant(radius)\n",
    "\n",
    "u_0 = Constant(7.5e-4)\n",
    "\n",
    "expr = ..."
   ]
  },
  {
   "cell_type": "markdown",
   "id": "41e908a8-c536-4d25-a8f6-8206dc64b3b6",
   "metadata": {},
   "source": [
    "The expression that we created is purely symbolic.\n",
    "In order to get out an object with a ball of data underneath that we can, say, make a plot of, or use in a PDE, we need to interpolate that algebraic expression into a function space."
   ]
  },
  {
   "cell_type": "code",
   "execution_count": null,
   "id": "3e37d0f3-8ca8-4bfb-9dd2-ffb8616933da",
   "metadata": {},
   "outputs": [],
   "source": [
    "U = ..."
   ]
  },
  {
   "cell_type": "markdown",
   "id": "f7ed54c2-0dd0-46a0-b9e6-1d4ddcb49d7b",
   "metadata": {},
   "source": [
    "Firedrake includes some plotting functions that call out to matplotlib.\n",
    "Here we'll make a 3D plot of the uplift."
   ]
  },
  {
   "cell_type": "code",
   "execution_count": null,
   "id": "1c22209f-d959-4794-af19-3bf08670fc07",
   "metadata": {},
   "outputs": [],
   "source": [
    "fig, ax = plt.subplots(subplot_kw={\"projection\": \"3d\"})\n",
    "firedrake.trisurf(U, axes=ax);"
   ]
  },
  {
   "cell_type": "markdown",
   "id": "3781b007-ce7f-409b-87a0-6ef43f71eb86",
   "metadata": {},
   "source": [
    "Now we'll create a variable that will hold the solution to the PDE."
   ]
  },
  {
   "cell_type": "code",
   "execution_count": null,
   "id": "16b47972-ff91-43aa-a485-2b3258e0cb05",
   "metadata": {},
   "outputs": [],
   "source": [
    "z = ..."
   ]
  },
  {
   "cell_type": "markdown",
   "id": "99a29c36-edf0-4365-98f2-cdd99a0b9acd",
   "metadata": {},
   "source": [
    "In order to create a symbolic representation of the PDE, we first need to make a test function."
   ]
  },
  {
   "cell_type": "code",
   "execution_count": null,
   "id": "0a5614dc-6d0c-499c-9717-851255ff1843",
   "metadata": {},
   "outputs": [],
   "source": [
    "w = ..."
   ]
  },
  {
   "cell_type": "markdown",
   "id": "db87b5fc-a5aa-43b4-a5db-5863d9cdd443",
   "metadata": {},
   "source": [
    "Now we'll create the variational form of the steady state problem.\n",
    "The mathematical problem we wish to solve is to find the elevation $z$ such that, for all test functions $w$,\n",
    "$$\\int_\\Omega \\left(k\\nabla z\\cdot\\nabla w - U\\;w\\right)dx = 0.$$"
   ]
  },
  {
   "cell_type": "code",
   "execution_count": null,
   "id": "fce8adfe-b42f-4794-846f-117a7a626a71",
   "metadata": {},
   "outputs": [],
   "source": [
    "k = Constant(0.0035)  # m² / yr\n",
    "F = ..."
   ]
  },
  {
   "cell_type": "markdown",
   "id": "6d37b0f7-cce1-4f9c-b1ab-1e68ae21bfc5",
   "metadata": {},
   "source": [
    "But we also need to supply a boundary condition.\n",
    "Here we'll use the Dirichlet condition\n",
    "$$z|_{\\partial\\Omega} = 0.$$"
   ]
  },
  {
   "cell_type": "code",
   "execution_count": null,
   "id": "2c60fd80-f8fb-44ca-9466-6922e22d6009",
   "metadata": {},
   "outputs": [],
   "source": [
    "bc = ..."
   ]
  },
  {
   "cell_type": "markdown",
   "id": "841dae7d-f23d-4c9d-b729-9305a9f3fb92",
   "metadata": {},
   "source": [
    "Almost there!\n",
    "To solve the PDE, we first create an object describing what problem we wish to solve.\n",
    "Then we create an object storing the information that we need in order to solve this problem."
   ]
  },
  {
   "cell_type": "code",
   "execution_count": null,
   "id": "e73d976d-071d-45b5-84af-9c37e019e4bf",
   "metadata": {},
   "outputs": [],
   "source": [
    "problem = ...\n",
    "solver = ..."
   ]
  },
  {
   "cell_type": "markdown",
   "id": "ffc082f2-93d2-4860-9298-677f1ff4145c",
   "metadata": {},
   "source": [
    "Finally, we can invoke a method to solve the PDE."
   ]
  },
  {
   "cell_type": "code",
   "execution_count": null,
   "id": "b10ceb7f-3c1a-4903-86a2-14d9a63e6605",
   "metadata": {},
   "outputs": [],
   "source": []
  },
  {
   "cell_type": "code",
   "execution_count": null,
   "id": "19e24315-2a1d-4acb-a0ca-4f3788dc01c1",
   "metadata": {},
   "outputs": [],
   "source": [
    "fig, ax = plt.subplots(subplot_kw={\"projection\": \"3d\"})\n",
    "firedrake.trisurf(z, axes=ax);"
   ]
  },
  {
   "cell_type": "markdown",
   "id": "6f427455-e8fc-4899-9a78-438c9a0e4fde",
   "metadata": {},
   "source": [
    "If we alter the right-hand side of the PDE and invoke the solve method again, we get a different solution."
   ]
  },
  {
   "cell_type": "code",
   "execution_count": null,
   "id": "bc68df02-236e-4e9d-b2c6-d11a53bf2865",
   "metadata": {},
   "outputs": [],
   "source": []
  },
  {
   "cell_type": "code",
   "execution_count": null,
   "id": "ac301017-03cb-4332-b405-a36242b9af2c",
   "metadata": {},
   "outputs": [],
   "source": [
    "fig, ax = plt.subplots(subplot_kw={\"projection\": \"3d\"})\n",
    "firedrake.trisurf(z, axes=ax);"
   ]
  },
  {
   "cell_type": "markdown",
   "id": "839f3070-a06a-4daa-b969-4ea1f75c89dd",
   "metadata": {},
   "source": [
    "## Time-dependent problems\n",
    "\n",
    "What if we instead wanted to solve a time-dependent problem?\n",
    "The variational form is:\n",
    "$$\\int_\\Omega\\left(\\partial_t z\\; w + k\\nabla z\\cdot\\nabla w - U\\;w\\right)dx = 0.$$\n",
    "\n",
    "In principle, we could also do time-dependent problems using what I've shown above.\n",
    "First, we create two functions for the values of the elevation at the previous and the current timestep $z_{n - 1}$ and $z_n$.\n",
    "We then pick a timestep $\\delta t$ and create the variational form\n",
    "\n",
    "$$\\int_\\Omega\\left(\\frac{z_n - z_{n - 1}}{\\delta t}w + k\\nabla z_n\\cdot\\nabla w - Uw\\right)dx = 0.$$\n",
    "\n",
    "We then create boundary conditions, a problem object, and a solver object.\n",
    "Finally, we create a big loop.\n",
    "In each step, we call `.solve` to obtain the next elevation value and then assign the newly obtained value to the function holding the previous value.\n",
    "\n",
    "This all works OK but as soon as we want to use a more sophisticated timestepping scheme we're hosed.\n",
    "Instead, we can code up the time-dependent problem as such."
   ]
  },
  {
   "cell_type": "code",
   "execution_count": null,
   "id": "ae031674-36d4-4004-83a7-6af1f5858670",
   "metadata": {},
   "outputs": [],
   "source": [
    "F = ..."
   ]
  },
  {
   "cell_type": "markdown",
   "id": "ccfbc920-787f-49d1-9d4b-1e53a00795ed",
   "metadata": {},
   "source": [
    "The Irksome package does **I**mplicit **R**unge-**K**utta methods.\n",
    "Here we're asking to use the backward Euler discretization."
   ]
  },
  {
   "cell_type": "code",
   "execution_count": null,
   "id": "6974e203-0a8d-4b11-8ea9-c5add7471e1f",
   "metadata": {},
   "outputs": [],
   "source": [
    "method = ..."
   ]
  },
  {
   "cell_type": "markdown",
   "id": "4c394286-8007-4929-b47f-6598fa76b4ba",
   "metadata": {},
   "source": [
    "We need to decide how long to integrate for.\n",
    "We can guess at a reasonable timescale based on the uplift rate and the radius of the domain."
   ]
  },
  {
   "cell_type": "code",
   "execution_count": null,
   "id": "74634055-77a4-4058-92c5-3e8e71c0e26a",
   "metadata": {},
   "outputs": [],
   "source": [
    "final_time = 3 * radius / float(u_0)\n",
    "print(final_time)"
   ]
  },
  {
   "cell_type": "markdown",
   "id": "bf83e8c7-6419-4c37-99a4-b7d17e5ccc47",
   "metadata": {},
   "source": [
    "Next we need to choose a timestep.\n",
    "There are principled ways to do this.\n",
    "But let's not kid, we always use trial and error."
   ]
  },
  {
   "cell_type": "code",
   "execution_count": null,
   "id": "7b8de6d8-576a-4a55-a2e0-7e071453ccc2",
   "metadata": {},
   "outputs": [],
   "source": [
    "timestep = final_time / 400.0\n",
    "dt = Constant(timestep)"
   ]
  },
  {
   "cell_type": "markdown",
   "id": "4e2283f7-139c-4712-a492-5c8225955894",
   "metadata": {},
   "source": [
    "Finally we create a time stepper object.\n",
    "This is analogous to the solver that we used before for steady problems."
   ]
  },
  {
   "cell_type": "code",
   "execution_count": null,
   "id": "5d48ce57-299b-4afc-a880-1ce6972e214b",
   "metadata": {},
   "outputs": [],
   "source": [
    "stepper = ..."
   ]
  },
  {
   "cell_type": "markdown",
   "id": "948c7939-5024-44c3-bd26-3add44df2e1c",
   "metadata": {},
   "source": [
    "And now a big loop."
   ]
  },
  {
   "cell_type": "code",
   "execution_count": null,
   "id": "f62b083f-a052-41da-a5d7-6d75bd7ed49d",
   "metadata": {},
   "outputs": [],
   "source": [
    "num_steps = int(final_time / timestep)\n",
    "\n",
    "zs = []\n",
    "for step in trange(num_steps):\n",
    "    ..."
   ]
  },
  {
   "cell_type": "markdown",
   "id": "ca8470cc-211f-47e3-8da1-de33ce37f119",
   "metadata": {},
   "source": [
    "And a movie."
   ]
  },
  {
   "cell_type": "code",
   "execution_count": null,
   "id": "e74ebb12-cab7-4d83-8e13-1e174cd79ff4",
   "metadata": {},
   "outputs": [],
   "source": [
    "%%capture\n",
    "\n",
    "fig, ax = plt.subplots()\n",
    "ax.set_aspect(\"equal\")\n",
    "colors = firedrake.tripcolor(zs[0], axes=ax, vmin=0, vmax=200.0, num_sample_points=4)\n",
    "fig.colorbar(colors)"
   ]
  },
  {
   "cell_type": "code",
   "execution_count": null,
   "id": "c1fb7344-3e54-4c17-a0ef-88383adf3641",
   "metadata": {},
   "outputs": [],
   "source": [
    "fn_plotter = firedrake.FunctionPlotter(mesh, num_sample_points=4)\n",
    "def animate(z):\n",
    "    colors.set_array(fn_plotter(z))\n",
    "\n",
    "animation = FuncAnimation(fig, animate, tqdm(zs), interval=1e3/30)"
   ]
  },
  {
   "cell_type": "code",
   "execution_count": null,
   "id": "c5b4baa4-9024-4b2d-b81e-eae9044feeae",
   "metadata": {},
   "outputs": [],
   "source": [
    "HTML(animation.to_html5_video())"
   ]
  }
 ],
 "metadata": {
  "kernelspec": {
   "display_name": "firedrake",
   "language": "python",
   "name": "firedrake"
  },
  "language_info": {
   "codemirror_mode": {
    "name": "ipython",
    "version": 3
   },
   "file_extension": ".py",
   "mimetype": "text/x-python",
   "name": "python",
   "nbconvert_exporter": "python",
   "pygments_lexer": "ipython3",
   "version": "3.12.8"
  }
 },
 "nbformat": 4,
 "nbformat_minor": 5
}
