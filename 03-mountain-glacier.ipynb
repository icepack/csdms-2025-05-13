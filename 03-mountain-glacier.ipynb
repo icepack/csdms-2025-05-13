{
 "cells": [
  {
   "cell_type": "markdown",
   "id": "fbfa23d3-c7bc-4949-a055-b293c42bb550",
   "metadata": {},
   "source": [
    "# Mountain glaciers\n",
    "\n",
    "Here we'll show how to simulate a mountain glacier.\n",
    "This will be more complicated than the previous demo because we need to track an advancing and retreating terminus."
   ]
  },
  {
   "cell_type": "code",
   "execution_count": null,
   "id": "2bbcb16d-d444-46d3-810a-ab79194a91eb",
   "metadata": {},
   "outputs": [],
   "source": [
    "from tqdm.notebook import trange, tqdm\n",
    "import numpy as np\n",
    "from numpy import pi as π\n",
    "import matplotlib.pyplot as plt\n",
    "from mpl_toolkits import mplot3d\n",
    "import firedrake\n",
    "from firedrake import inner, grad, dx, exp, min_value, max_value, Constant\n",
    "import irksome\n",
    "from icepack2 import model"
   ]
  },
  {
   "cell_type": "markdown",
   "id": "3ed26c06-ea87-4688-9761-e98e5b26684d",
   "metadata": {},
   "source": [
    "## Geometry\n",
    "\n",
    "I got some numbers for Mt. Rainier in WA from [this volume](http://npshistory.com/publications/mora/glaciers-1963.pdf) from 1963, edited by Mark Meier and featuring many contributions by Austin Post."
   ]
  },
  {
   "cell_type": "code",
   "execution_count": null,
   "id": "f4ed4de3-bfb5-4f7f-bfba-52fc0e913f8c",
   "metadata": {},
   "outputs": [],
   "source": [
    "radius = Constant(12e3)\n",
    "mesh = firedrake.UnitDiskMesh(4)\n",
    "mesh.coordinates.dat.data[:] *= float(radius)"
   ]
  },
  {
   "cell_type": "markdown",
   "id": "55e5e816-7f40-435e-aa22-78051037a76b",
   "metadata": {},
   "source": [
    "Mostly the same function spaces as before."
   ]
  },
  {
   "cell_type": "code",
   "execution_count": null,
   "id": "94cbe500-16ff-4824-b873-d94427a23278",
   "metadata": {},
   "outputs": [],
   "source": [
    "dg0 = firedrake.FiniteElement(\"DG\", \"triangle\", 0)\n",
    "cg1 = firedrake.FiniteElement(\"CG\", \"triangle\", 1)\n",
    "S = firedrake.FunctionSpace(mesh, cg1)\n",
    "Q = firedrake.FunctionSpace(mesh, dg0)\n",
    "V = firedrake.VectorFunctionSpace(mesh, cg1)\n",
    "Σ = firedrake.TensorFunctionSpace(mesh, dg0, symmetry=True)"
   ]
  },
  {
   "cell_type": "markdown",
   "id": "c3d0b834-dbca-4b2b-9533-44125ce72c71",
   "metadata": {},
   "source": [
    "Mt. Rainier is about 4km high.\n",
    "We'll use a bed topography of the form $B\\exp(-|x|^2/r^2)$, although this is actually a little unrealistic."
   ]
  },
  {
   "cell_type": "code",
   "execution_count": null,
   "id": "58d11b38-22fb-4db3-bcf9-f989817715c2",
   "metadata": {},
   "outputs": [],
   "source": [
    "x = firedrake.SpatialCoordinate(mesh)\n",
    "\n",
    "B = Constant(4e3)\n",
    "r_b = Constant(150e3 / (2 * π))\n",
    "expr = ...\n",
    "b = firedrake.Function(S).interpolate(expr)"
   ]
  },
  {
   "cell_type": "code",
   "execution_count": null,
   "id": "24945f29-c8d5-4a0e-84f0-9253dd1d2067",
   "metadata": {},
   "outputs": [],
   "source": [
    "fig, ax = plt.subplots()\n",
    "ax.set_aspect(\"equal\")\n",
    "ax.set_title(\"Bed elevation\")\n",
    "colors = firedrake.tripcolor(b, axes=ax)\n",
    "fig.colorbar(colors);"
   ]
  },
  {
   "cell_type": "code",
   "execution_count": null,
   "id": "c210d969-5606-4937-9bdb-85fdc4112a31",
   "metadata": {},
   "outputs": [],
   "source": [
    "fig, ax = plt.subplots(subplot_kw={\"projection\": \"3d\"})\n",
    "firedrake.trisurf(b, axes=ax);"
   ]
  },
  {
   "cell_type": "markdown",
   "id": "799ff14c-f764-46eb-842c-8034f6c7476f",
   "metadata": {},
   "source": [
    "For mountain glaciers, we have to think very hard about what the right surface mass balance field is.\n",
    "The measurements from the 60s found that:\n",
    "* at 1600m elevation, the SMB is about -8.7 m/yr of water equivalent\n",
    "* the accumulation maxes out at 0.7 m/yr at the peak elevation\n",
    "\n",
    "With these values, we can make up a reasonable SMB field that is linear with elevation up to some maximum."
   ]
  },
  {
   "cell_type": "code",
   "execution_count": null,
   "id": "eaeced4e-119f-4e85-a038-f7ef03964648",
   "metadata": {},
   "outputs": [],
   "source": [
    "z_measured = Constant(1600.0)\n",
    "a_measured = Constant(-0.917 * 8.7)\n",
    "a_top = Constant(0.7)\n",
    "z_top = Constant(4e3)\n",
    "δa_δz = (a_top - a_measured) / (z_top - z_measured)\n",
    "a_max = Constant(0.7)\n",
    "\n",
    "def smb(z):\n",
    "    return min_value(a_max, a_measured + δa_δz * (z - z_measured))"
   ]
  },
  {
   "cell_type": "markdown",
   "id": "cf4ccb68-c028-4a97-9479-caf99ea467b9",
   "metadata": {},
   "source": [
    "We'll start with a very artificial initial guess for the thickness and evolve it toward equilibrium."
   ]
  },
  {
   "cell_type": "code",
   "execution_count": null,
   "id": "e49e504f-ac00-4c7e-a055-ffe1cd84b054",
   "metadata": {},
   "outputs": [],
   "source": [
    "r_h = Constant(5e3)\n",
    "H = Constant(100.0)\n",
    "expr = H * firedrake.max_value(0, 1 - inner(x, x) / r_h**2)\n",
    "h = firedrake.Function(Q).interpolate(expr)\n",
    "h_0 = h.copy(deepcopy=True)"
   ]
  },
  {
   "cell_type": "code",
   "execution_count": null,
   "id": "16e78f35-2127-467b-91ff-abfa23addde1",
   "metadata": {},
   "outputs": [],
   "source": [
    "fig, ax = plt.subplots()\n",
    "ax.set_aspect(\"equal\")\n",
    "colors = firedrake.tripcolor(h, cmap=\"Blues\", axes=ax)\n",
    "fig.colorbar(colors);"
   ]
  },
  {
   "cell_type": "markdown",
   "id": "ea593b0b-c5f1-4d2a-a70a-f8537ab35167",
   "metadata": {},
   "source": [
    "We can then compute the initial surface elevation and mass balance."
   ]
  },
  {
   "cell_type": "code",
   "execution_count": null,
   "id": "0641ac14-e8e1-496b-9ffd-e376c7ae3974",
   "metadata": {},
   "outputs": [],
   "source": [
    "a = firedrake.Function(Q).interpolate(smb(b + h))"
   ]
  },
  {
   "cell_type": "code",
   "execution_count": null,
   "id": "4ec0e6ba-bff9-4493-88cc-cd9a88505224",
   "metadata": {},
   "outputs": [],
   "source": [
    "fig, ax = plt.subplots()\n",
    "ax.set_aspect(\"equal\")\n",
    "colors = firedrake.tripcolor(a, vmin=-1.0, vmax=1.0, cmap=\"RdBu\", axes=ax)\n",
    "fig.colorbar(colors);"
   ]
  },
  {
   "cell_type": "markdown",
   "id": "4b97c83c-e389-43ab-bdad-c0e194c1380b",
   "metadata": {},
   "source": [
    "## Initial velocity computation\n",
    "\n",
    "In order to calculate the material properties of the glacier, we'll assume that it's roughly temperate, which isn't too far off from the truth."
   ]
  },
  {
   "cell_type": "code",
   "execution_count": null,
   "id": "e3b0b711-e898-4760-b326-807afae85a56",
   "metadata": {},
   "outputs": [],
   "source": [
    "from icepack2.constants import gravity, ice_density, glen_flow_law\n",
    "A = Constant(158.8)\n",
    "n = Constant(glen_flow_law)\n",
    "τ_c = Constant(0.1)\n",
    "ε_c = ..."
   ]
  },
  {
   "cell_type": "markdown",
   "id": "bec1a763-ab01-4f63-ae93-d92f0ce0ef2a",
   "metadata": {},
   "source": [
    "Unlike the ice shelf case, there is no real boundary, so we don't have to come up with some initial velocity."
   ]
  },
  {
   "cell_type": "code",
   "execution_count": null,
   "id": "db935250-689e-4ca7-aee5-c5b0f212c4d4",
   "metadata": {},
   "outputs": [],
   "source": [
    "Z = V * Σ * V\n",
    "z = firedrake.Function(Z)"
   ]
  },
  {
   "cell_type": "markdown",
   "id": "b16d9a32-7b64-4ce9-aa1e-cf38e900765e",
   "metadata": {},
   "source": [
    "For a grounded glacier, we hvae to also add the basal shear stress as an unknown and make some decision about the friction coefficient.\n",
    "To make the SSA model effectively do SIA, what we need is that, in the sliding law\n",
    "$$K|\\tau|^{m - 1}\\tau = -u,$$\n",
    "we take\n",
    "$$K = \\frac{hA}{n + 2}.$$\n",
    "We also define the sliding coefficient as\n",
    "$$K = u_c / \\tau_c^m$$\n",
    "where $\\tau_c$ is a reference stress and $u_c$ a reference speed.\n",
    "We're using the same reference stress for the flow and sliding laws of $\\tau_c = $ 100 kPa, so we can then compute the reference speed as $u_c = K\\tau_c^m$.\n",
    "We can then add more sliding on top of the effective deformation that we use to mimic SIA.\n",
    "To add some extra real sliding, we've increased the critical speed $u_c$ by a factor of 100 m/yr."
   ]
  },
  {
   "cell_type": "code",
   "execution_count": null,
   "id": "1b9a1932-e82b-45ac-a353-07c6d0f2ab67",
   "metadata": {},
   "outputs": [],
   "source": [
    "K = h * A / (n + 2)\n",
    "U_c = Constant(100.0)\n",
    "u_c = ..."
   ]
  },
  {
   "cell_type": "markdown",
   "id": "0af1c4c8-cca7-4067-8a8c-d38a0bc3f9aa",
   "metadata": {},
   "source": [
    "For the ice shelf case, we used a flow law with $n = 3$.\n",
    "Here we're going to use a combination of rheologies with both $n = 1$ and $n = 3$.\n",
    "It helps to wrap all this up into some dictionaries to make things easier."
   ]
  },
  {
   "cell_type": "code",
   "execution_count": null,
   "id": "f4bbe65a-e7ee-41e7-9742-9feda268c3cc",
   "metadata": {},
   "outputs": [],
   "source": [
    "glen_rheology = {\n",
    "    \"flow_law_exponent\": n,\n",
    "    \"flow_law_coefficient\": ε_c / τ_c ** n,\n",
    "    \"sliding_exponent\": n,\n",
    "    \"sliding_coefficient\": u_c / τ_c ** n,\n",
    "}\n",
    "\n",
    "α = firedrake.Constant(1e-4)\n",
    "linear_rheology = {\n",
    "    \"flow_law_exponent\": 1,\n",
    "    \"flow_law_coefficient\": ε_c / τ_c,\n",
    "    \"sliding_exponent\": 1,\n",
    "    \"sliding_coefficient\": u_c / τ_c,\n",
    "}"
   ]
  },
  {
   "cell_type": "markdown",
   "id": "cc318cb8-1f36-4f8c-b0fd-7e1dc4d1ab50",
   "metadata": {},
   "source": [
    "Now we'll create the parameters that we need for the solver, including what quadrature degree and solution strategy to use."
   ]
  },
  {
   "cell_type": "code",
   "execution_count": null,
   "id": "d414edbf-be45-4e0e-99f5-86562ec7303e",
   "metadata": {},
   "outputs": [],
   "source": [
    "degree = 1\n",
    "qdegree = max(8, degree ** glen_flow_law)\n",
    "pparams = {\"form_compiler_parameters\": {\"quadrature_degree\": qdegree}}\n",
    "\n",
    "sparams = {\n",
    "    \"solver_parameters\": {\n",
    "        \"snes_monitor\": None,\n",
    "        \"snes_type\": \"newtonls\",\n",
    "        \"snes_max_it\": 200,\n",
    "        \"snes_linesearch_type\": \"nleqerr\",\n",
    "        \"ksp_type\": \"gmres\",\n",
    "        \"pc_type\": \"lu\",\n",
    "        \"pc_factor_mat_solver_type\": \"mumps\",\n",
    "    },\n",
    "}"
   ]
  },
  {
   "cell_type": "markdown",
   "id": "4d91d056-05ff-4abb-a702-c1683b6a3718",
   "metadata": {},
   "source": [
    "The momentum balance form has more terms.\n",
    "But the process is essentially the same as before."
   ]
  },
  {
   "cell_type": "code",
   "execution_count": null,
   "id": "a1042066-7992-4d32-8a1d-62a006a2de11",
   "metadata": {},
   "outputs": [],
   "source": [
    "from icepack2 import model\n",
    "from icepack2.model.variational import momentum_balance, flow_law, friction_law\n",
    "\n",
    "u, M, τ = firedrake.split(z)\n",
    "v, N, σ = firedrake.TestFunctions(Z)\n",
    "\n",
    "F = ...\n",
    "\n",
    "momentum_problem = firedrake.NonlinearVariationalProblem(F, z, **pparams)\n",
    "momentum_solver = firedrake.NonlinearVariationalSolver(momentum_problem, **sparams)"
   ]
  },
  {
   "cell_type": "markdown",
   "id": "35f45cb5-f7b2-40d7-aced-514de7a1f8dc",
   "metadata": {},
   "source": [
    "Now we can see our initial value of the velocity."
   ]
  },
  {
   "cell_type": "code",
   "execution_count": null,
   "id": "4040c1bb-a861-4697-b91b-f3ffc7ef04d9",
   "metadata": {},
   "outputs": [],
   "source": [
    "momentum_solver.solve()"
   ]
  },
  {
   "cell_type": "code",
   "execution_count": null,
   "id": "7ad3c01b-2f76-48f7-a2d2-297c136ddca0",
   "metadata": {},
   "outputs": [],
   "source": [
    "u_init, M_init, τ_init = z.subfunctions\n",
    "\n",
    "fig, axes = plt.subplots()\n",
    "axes.set_aspect(\"equal\")\n",
    "colors = firedrake.tripcolor(u_init, axes=axes)\n",
    "fig.colorbar(colors);"
   ]
  },
  {
   "cell_type": "markdown",
   "id": "ee900d6a-845a-4274-a58b-eba0bf60df4e",
   "metadata": {},
   "source": [
    "## Forward modeling\n",
    "\n",
    "Now make an even bigger function space, God help us all.\n",
    "Pack in the initial values of the velocity, membrane stress, and basal stress that we computed before."
   ]
  },
  {
   "cell_type": "code",
   "execution_count": null,
   "id": "873be577-b14f-4f6a-bd69-fbe9a6cc2f34",
   "metadata": {},
   "outputs": [],
   "source": [
    "W = ...\n",
    "w = firedrake.Function(W)\n",
    "w.sub(0).assign(u_init)\n",
    "w.sub(1).assign(M_init)\n",
    "w.sub(2).assign(τ_init)\n",
    "w.sub(3).assign(h);"
   ]
  },
  {
   "cell_type": "markdown",
   "id": "0573021d-eade-4e73-b8b1-563c56da95aa",
   "metadata": {},
   "source": [
    "Again, we form the momentum and mass balance equations, add them together into one big form, and pass it to Irksome."
   ]
  },
  {
   "cell_type": "code",
   "execution_count": null,
   "id": "42ab17c7-fb17-45c5-8fd4-85ef85eb8fa6",
   "metadata": {},
   "outputs": [],
   "source": [
    "u, M, τ, h = ...\n",
    "v, N, σ, ϕ = ...\n",
    "\n",
    "K = h * A / (n + 2)\n",
    "U_c = Constant(100.0)\n",
    "u_c = K * τ_c ** n + U_c\n",
    "\n",
    "glen_rheology = {\n",
    "    \"flow_law_exponent\": n,\n",
    "    \"flow_law_coefficient\": ε_c / τ_c ** n,\n",
    "    \"sliding_exponent\": n,\n",
    "    \"sliding_coefficient\": u_c / τ_c ** n,\n",
    "}\n",
    "\n",
    "α = firedrake.Constant(1e-4)\n",
    "linear_rheology = {\n",
    "    \"flow_law_exponent\": 1,\n",
    "    \"flow_law_coefficient\": ε_c / τ_c,\n",
    "    \"sliding_exponent\": 1,\n",
    "    \"sliding_coefficient\": u_c / τ_c,\n",
    "}\n",
    "\n",
    "F_momentum = ...\n",
    "F_mass = ...\n",
    "\n",
    "F = F_momentum + F_mass"
   ]
  },
  {
   "cell_type": "code",
   "execution_count": null,
   "id": "838cbb65-00dc-4b41-a5f1-ae7d669fbbce",
   "metadata": {},
   "outputs": [],
   "source": [
    "tableau = irksome.BackwardEuler()\n",
    "t = Constant(0.0)\n",
    "dt = Constant(1.0)\n",
    "\n",
    "lower = firedrake.Function(W)\n",
    "upper = firedrake.Function(W)\n",
    "lower.assign(-np.inf)\n",
    "upper.assign(+np.inf)\n",
    "lower.subfunctions[3].assign(0.0)\n",
    "bounds = (\"stage\", lower, upper)\n",
    "\n",
    "bparams = {\n",
    "    \"solver_parameters\": {\n",
    "        \"snes_monitor\": \":rainier-output-vi.log\",\n",
    "        \"snes_type\": \"vinewtonrsls\",\n",
    "        \"snes_max_it\": 200,\n",
    "        \"ksp_type\": \"gmres\",\n",
    "        \"pc_type\": \"lu\",\n",
    "        \"pc_factor_mat_solver_type\": \"mumps\",\n",
    "    },\n",
    "    \"form_compiler_parameters\": {\"quadrature_degree\": 6},\n",
    "    \"stage_type\": \"value\",\n",
    "    \"basis_type\": \"Bernstein\",\n",
    "    \"bounds\": bounds,\n",
    "}\n",
    "\n",
    "solver = irksome.TimeStepper(...)"
   ]
  },
  {
   "cell_type": "markdown",
   "id": "52525e1f-b2d0-41e2-9d10-4f49e33c2648",
   "metadata": {},
   "source": [
    "The good part: run the model for 500 years of simulation time."
   ]
  },
  {
   "cell_type": "code",
   "execution_count": null,
   "id": "e4892bde-6369-453d-9503-12ee491a537c",
   "metadata": {},
   "outputs": [],
   "source": [
    "hs = [w.subfunctions[3].copy(deepcopy=True)]\n",
    "\n",
    "final_time = 500.0\n",
    "num_steps = int(final_time / float(dt))\n",
    "for step in trange(num_steps):\n",
    "    solver.advance()\n",
    "    h = w.subfunctions[3]\n",
    "    a.interpolate(smb(b + h))\n",
    "    hs.append(h.copy(deepcopy=True))"
   ]
  },
  {
   "cell_type": "markdown",
   "id": "4f7d8b7f-7c77-42d1-9659-b82f8b5e36d7",
   "metadata": {},
   "source": [
    "Plot the final velocity.\n",
    "This speed is pretty slow -- Rainier is ~20x faster than this."
   ]
  },
  {
   "cell_type": "code",
   "execution_count": null,
   "id": "f01a49bf-f4c5-41b4-b5fc-3d76deaa55fe",
   "metadata": {},
   "outputs": [],
   "source": [
    "u, M, τ, h = w.subfunctions\n",
    "\n",
    "fig, axes = plt.subplots()\n",
    "axes.set_aspect(\"equal\")\n",
    "axes.set_xlim((0, 10e3))\n",
    "axes.set_ylim((0, 10e3))\n",
    "colors = firedrake.tripcolor(u, axes=axes)\n",
    "fig.colorbar(colors);"
   ]
  },
  {
   "cell_type": "markdown",
   "id": "c128f763-5d1c-4008-9a6d-abf51208d3d1",
   "metadata": {},
   "source": [
    "Make a movie to show the glacier evolution."
   ]
  },
  {
   "cell_type": "code",
   "execution_count": null,
   "id": "3c778fd1-203e-4a13-a532-19d0639d3da1",
   "metadata": {},
   "outputs": [],
   "source": [
    "%%capture\n",
    "\n",
    "fig, axes = plt.subplots()\n",
    "axes.set_aspect(\"equal\")\n",
    "axes.set_xlim((0, 10e3))\n",
    "axes.set_ylim((0, 10e3))\n",
    "colors = firedrake.tripcolor(\n",
    "    hs[0], vmax=130.0, num_sample_points=1, shading=\"gouraud\", cmap=\"Blues\", axes=axes\n",
    ")\n",
    "fig.colorbar(colors);"
   ]
  },
  {
   "cell_type": "code",
   "execution_count": null,
   "id": "66704ac7-81e5-4586-be98-86f821228ca4",
   "metadata": {},
   "outputs": [],
   "source": [
    "from matplotlib.animation import FuncAnimation\n",
    "\n",
    "fn_plotter = firedrake.FunctionPlotter(mesh, num_sample_points=1)\n",
    "def animate(h):\n",
    "    colors.set_array(fn_plotter(h))\n",
    "\n",
    "animation = FuncAnimation(fig, animate, tqdm(hs), interval=1e3/60)"
   ]
  },
  {
   "cell_type": "code",
   "execution_count": null,
   "id": "c639e838-6305-4dc7-9760-c4c92b193e0a",
   "metadata": {},
   "outputs": [],
   "source": [
    "from IPython.display import HTML\n",
    "HTML(animation.to_html5_video())"
   ]
  },
  {
   "cell_type": "markdown",
   "id": "473f992b-343a-416b-9754-de6497bdfe95",
   "metadata": {},
   "source": [
    "Plots of the volume show the glacier roughly attaining steady state."
   ]
  },
  {
   "cell_type": "code",
   "execution_count": null,
   "id": "53927034-2a55-4391-b0af-ac84f555f26a",
   "metadata": {},
   "outputs": [],
   "source": [
    "times = np.linspace(0.0, final_time, num_steps + 1)\n",
    "volumes = [firedrake.assemble(h * dx) / 1e9 for h in hs]\n",
    "fig, ax = plt.subplots()\n",
    "ax.set_xlabel(\"Time (years)\")\n",
    "ax.set_ylabel(\"Ice volume (km${}^3$)\")\n",
    "ax.plot(times, volumes);"
   ]
  },
  {
   "cell_type": "markdown",
   "id": "167d97f5-6eee-44d6-a6aa-1539e2519e6b",
   "metadata": {},
   "source": [
    "Compute the sizes of the accumulation and ablation areas."
   ]
  },
  {
   "cell_type": "code",
   "execution_count": null,
   "id": "d87a267e-e58b-4e10-bbd3-8188d826a7e1",
   "metadata": {},
   "outputs": [],
   "source": [
    "from firedrake import conditional, And\n",
    "ablation_mask = ...\n",
    "accumulation_mask = ...\n",
    "ablation_area = firedrake.assemble(ablation_mask * dx)\n",
    "accumulation_area = firedrake.assemble(accumulation_mask * dx)\n",
    "print(f\"Accumulation area: {accumulation_area / 1e6:0.0f} km²\")\n",
    "print(f\"Ablation area:     {ablation_area / 1e6:0.0f} km²\")"
   ]
  },
  {
   "cell_type": "markdown",
   "id": "f27604e0-fa56-4204-be35-f2f31a1cd507",
   "metadata": {},
   "source": [
    "Save the results to disk so that we can do something else with them."
   ]
  },
  {
   "cell_type": "code",
   "execution_count": null,
   "id": "71f22a32-6fe5-4a01-b9cf-e6e696b61395",
   "metadata": {},
   "outputs": [],
   "source": [
    "with firedrake.CheckpointFile(\"mountain-glacier.h5\", \"w\") as chk:\n",
    "    chk.save_mesh(mesh)\n",
    "    chk.save_function(u, name=\"velocity\")\n",
    "    chk.save_function(M, name=\"membrane_stress\")\n",
    "    chk.save_function(τ, name=\"basal_stress\")\n",
    "    chk.save_function(h, name=\"thickness\")"
   ]
  }
 ],
 "metadata": {
  "kernelspec": {
   "display_name": "firedrake",
   "language": "python",
   "name": "firedrake"
  },
  "language_info": {
   "codemirror_mode": {
    "name": "ipython",
    "version": 3
   },
   "file_extension": ".py",
   "mimetype": "text/x-python",
   "name": "python",
   "nbconvert_exporter": "python",
   "pygments_lexer": "ipython3",
   "version": "3.11.9"
  }
 },
 "nbformat": 4,
 "nbformat_minor": 5
}
